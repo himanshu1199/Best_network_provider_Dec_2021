{
 "cells": [
  {
   "cell_type": "markdown",
   "id": "76bb2367",
   "metadata": {},
   "source": [
    "# Who is the best network provider in Dec 2021\n",
    "### ( parameters : speed more than average speed, strong signal strength, more 4G technology )"
   ]
  },
  {
   "cell_type": "markdown",
   "id": "f92b67e2",
   "metadata": {},
   "source": [
    "## Import required Libraries"
   ]
  },
  {
   "cell_type": "code",
   "execution_count": 2,
   "id": "c1403ea2",
   "metadata": {},
   "outputs": [],
   "source": [
    "import pandas as pd\n",
    "import numpy as np\n",
    "import matplotlib.pyplot as plt \n",
    "import seaborn as sns"
   ]
  },
  {
   "cell_type": "markdown",
   "id": "63b46b8f",
   "metadata": {},
   "source": [
    "## Load Dataset"
   ]
  },
  {
   "cell_type": "code",
   "execution_count": 3,
   "id": "1d19f195",
   "metadata": {},
   "outputs": [],
   "source": [
    "myspeed= pd.read_csv('December_MySpeed_2021.csv')"
   ]
  },
  {
   "cell_type": "markdown",
   "id": "1fe18d3f",
   "metadata": {},
   "source": [
    "## Explore Dataset"
   ]
  },
  {
   "cell_type": "code",
   "execution_count": 4,
   "id": "82e98056",
   "metadata": {},
   "outputs": [
    {
     "data": {
      "text/html": [
       "<div>\n",
       "<style scoped>\n",
       "    .dataframe tbody tr th:only-of-type {\n",
       "        vertical-align: middle;\n",
       "    }\n",
       "\n",
       "    .dataframe tbody tr th {\n",
       "        vertical-align: top;\n",
       "    }\n",
       "\n",
       "    .dataframe thead th {\n",
       "        text-align: right;\n",
       "    }\n",
       "</style>\n",
       "<table border=\"1\" class=\"dataframe\">\n",
       "  <thead>\n",
       "    <tr style=\"text-align: right;\">\n",
       "      <th></th>\n",
       "      <th>operator</th>\n",
       "      <th>technology</th>\n",
       "      <th>download</th>\n",
       "      <th>speed</th>\n",
       "      <th>signal_strength</th>\n",
       "      <th>lsa</th>\n",
       "    </tr>\n",
       "  </thead>\n",
       "  <tbody>\n",
       "    <tr>\n",
       "      <th>0</th>\n",
       "      <td>AIRTEL</td>\n",
       "      <td>4G</td>\n",
       "      <td>download</td>\n",
       "      <td>33873.0</td>\n",
       "      <td>-94</td>\n",
       "      <td>NaN</td>\n",
       "    </tr>\n",
       "    <tr>\n",
       "      <th>1</th>\n",
       "      <td>AIRTEL</td>\n",
       "      <td>4G</td>\n",
       "      <td>upload</td>\n",
       "      <td>4545.0</td>\n",
       "      <td>na</td>\n",
       "      <td>NaN</td>\n",
       "    </tr>\n",
       "    <tr>\n",
       "      <th>2</th>\n",
       "      <td>AIRTEL</td>\n",
       "      <td>4G</td>\n",
       "      <td>upload</td>\n",
       "      <td>7053.0</td>\n",
       "      <td>-86</td>\n",
       "      <td>Haryana</td>\n",
       "    </tr>\n",
       "    <tr>\n",
       "      <th>3</th>\n",
       "      <td>AIRTEL</td>\n",
       "      <td>4G</td>\n",
       "      <td>upload</td>\n",
       "      <td>15713.0</td>\n",
       "      <td>-86</td>\n",
       "      <td>Haryana</td>\n",
       "    </tr>\n",
       "    <tr>\n",
       "      <th>4</th>\n",
       "      <td>AIRTEL</td>\n",
       "      <td>4G</td>\n",
       "      <td>upload</td>\n",
       "      <td>25746.0</td>\n",
       "      <td>-95</td>\n",
       "      <td>NaN</td>\n",
       "    </tr>\n",
       "    <tr>\n",
       "      <th>5</th>\n",
       "      <td>AIRTEL</td>\n",
       "      <td>4G</td>\n",
       "      <td>upload</td>\n",
       "      <td>6629.0</td>\n",
       "      <td>-87</td>\n",
       "      <td>NaN</td>\n",
       "    </tr>\n",
       "    <tr>\n",
       "      <th>6</th>\n",
       "      <td>AIRTEL</td>\n",
       "      <td>4G</td>\n",
       "      <td>upload</td>\n",
       "      <td>9603.0</td>\n",
       "      <td>-90</td>\n",
       "      <td>NaN</td>\n",
       "    </tr>\n",
       "    <tr>\n",
       "      <th>7</th>\n",
       "      <td>AIRTEL</td>\n",
       "      <td>4G</td>\n",
       "      <td>upload</td>\n",
       "      <td>97.0</td>\n",
       "      <td>-98</td>\n",
       "      <td>NaN</td>\n",
       "    </tr>\n",
       "    <tr>\n",
       "      <th>8</th>\n",
       "      <td>AIRTEL</td>\n",
       "      <td>4G</td>\n",
       "      <td>upload</td>\n",
       "      <td>8939.0</td>\n",
       "      <td>-92</td>\n",
       "      <td>NaN</td>\n",
       "    </tr>\n",
       "    <tr>\n",
       "      <th>9</th>\n",
       "      <td>AIRTEL</td>\n",
       "      <td>4G</td>\n",
       "      <td>upload</td>\n",
       "      <td>8918.0</td>\n",
       "      <td>-92</td>\n",
       "      <td>NaN</td>\n",
       "    </tr>\n",
       "  </tbody>\n",
       "</table>\n",
       "</div>"
      ],
      "text/plain": [
       "  operator technology  download    speed signal_strength      lsa\n",
       "0   AIRTEL         4G  download  33873.0             -94      NaN\n",
       "1   AIRTEL         4G    upload   4545.0              na      NaN\n",
       "2   AIRTEL         4G    upload   7053.0             -86  Haryana\n",
       "3   AIRTEL         4G    upload  15713.0             -86  Haryana\n",
       "4   AIRTEL         4G    upload  25746.0             -95      NaN\n",
       "5   AIRTEL         4G    upload   6629.0             -87      NaN\n",
       "6   AIRTEL         4G    upload   9603.0             -90      NaN\n",
       "7   AIRTEL         4G    upload     97.0             -98      NaN\n",
       "8   AIRTEL         4G    upload   8939.0             -92      NaN\n",
       "9   AIRTEL         4G    upload   8918.0             -92      NaN"
      ]
     },
     "execution_count": 4,
     "metadata": {},
     "output_type": "execute_result"
    }
   ],
   "source": [
    "myspeed.head(10)"
   ]
  },
  {
   "cell_type": "code",
   "execution_count": 5,
   "id": "f7376f40",
   "metadata": {},
   "outputs": [
    {
     "data": {
      "text/html": [
       "<div>\n",
       "<style scoped>\n",
       "    .dataframe tbody tr th:only-of-type {\n",
       "        vertical-align: middle;\n",
       "    }\n",
       "\n",
       "    .dataframe tbody tr th {\n",
       "        vertical-align: top;\n",
       "    }\n",
       "\n",
       "    .dataframe thead th {\n",
       "        text-align: right;\n",
       "    }\n",
       "</style>\n",
       "<table border=\"1\" class=\"dataframe\">\n",
       "  <thead>\n",
       "    <tr style=\"text-align: right;\">\n",
       "      <th></th>\n",
       "      <th>operator</th>\n",
       "      <th>technology</th>\n",
       "      <th>download</th>\n",
       "      <th>speed</th>\n",
       "      <th>signal_strength</th>\n",
       "      <th>lsa</th>\n",
       "    </tr>\n",
       "  </thead>\n",
       "  <tbody>\n",
       "    <tr>\n",
       "      <th>957966</th>\n",
       "      <td>AIRTEL</td>\n",
       "      <td>4G</td>\n",
       "      <td>download</td>\n",
       "      <td>12966.0</td>\n",
       "      <td>-96</td>\n",
       "      <td>NaN</td>\n",
       "    </tr>\n",
       "    <tr>\n",
       "      <th>957967</th>\n",
       "      <td>AIRTEL</td>\n",
       "      <td>4G</td>\n",
       "      <td>download</td>\n",
       "      <td>22995.0</td>\n",
       "      <td>-74</td>\n",
       "      <td>NaN</td>\n",
       "    </tr>\n",
       "    <tr>\n",
       "      <th>957968</th>\n",
       "      <td>AIRTEL</td>\n",
       "      <td>4G</td>\n",
       "      <td>download</td>\n",
       "      <td>12321.0</td>\n",
       "      <td>-97</td>\n",
       "      <td>NaN</td>\n",
       "    </tr>\n",
       "    <tr>\n",
       "      <th>957969</th>\n",
       "      <td>AIRTEL</td>\n",
       "      <td>4G</td>\n",
       "      <td>download</td>\n",
       "      <td>63499.0</td>\n",
       "      <td>-104</td>\n",
       "      <td>NaN</td>\n",
       "    </tr>\n",
       "    <tr>\n",
       "      <th>957970</th>\n",
       "      <td>AIRTEL</td>\n",
       "      <td>4G</td>\n",
       "      <td>download</td>\n",
       "      <td>2690.0</td>\n",
       "      <td>-106</td>\n",
       "      <td>NaN</td>\n",
       "    </tr>\n",
       "    <tr>\n",
       "      <th>957971</th>\n",
       "      <td>AIRTEL</td>\n",
       "      <td>4G</td>\n",
       "      <td>download</td>\n",
       "      <td>21126.0</td>\n",
       "      <td>-81</td>\n",
       "      <td>NaN</td>\n",
       "    </tr>\n",
       "    <tr>\n",
       "      <th>957972</th>\n",
       "      <td>AIRTEL</td>\n",
       "      <td>4G</td>\n",
       "      <td>download</td>\n",
       "      <td>22196.0</td>\n",
       "      <td>-95</td>\n",
       "      <td>NaN</td>\n",
       "    </tr>\n",
       "    <tr>\n",
       "      <th>957973</th>\n",
       "      <td>AIRTEL</td>\n",
       "      <td>4G</td>\n",
       "      <td>download</td>\n",
       "      <td>17356.0</td>\n",
       "      <td>-107</td>\n",
       "      <td>NaN</td>\n",
       "    </tr>\n",
       "    <tr>\n",
       "      <th>957974</th>\n",
       "      <td>AIRTEL</td>\n",
       "      <td>4G</td>\n",
       "      <td>download</td>\n",
       "      <td>593.0</td>\n",
       "      <td>-91</td>\n",
       "      <td>NaN</td>\n",
       "    </tr>\n",
       "    <tr>\n",
       "      <th>957975</th>\n",
       "      <td>AIRTEL</td>\n",
       "      <td>4G</td>\n",
       "      <td>download</td>\n",
       "      <td>2386.0</td>\n",
       "      <td>-94</td>\n",
       "      <td>NaN</td>\n",
       "    </tr>\n",
       "  </tbody>\n",
       "</table>\n",
       "</div>"
      ],
      "text/plain": [
       "       operator technology  download    speed signal_strength  lsa\n",
       "957966   AIRTEL         4G  download  12966.0             -96  NaN\n",
       "957967   AIRTEL         4G  download  22995.0             -74  NaN\n",
       "957968   AIRTEL         4G  download  12321.0             -97  NaN\n",
       "957969   AIRTEL         4G  download  63499.0            -104  NaN\n",
       "957970   AIRTEL         4G  download   2690.0            -106  NaN\n",
       "957971   AIRTEL         4G  download  21126.0             -81  NaN\n",
       "957972   AIRTEL         4G  download  22196.0             -95  NaN\n",
       "957973   AIRTEL         4G  download  17356.0            -107  NaN\n",
       "957974   AIRTEL         4G  download    593.0             -91  NaN\n",
       "957975   AIRTEL         4G  download   2386.0             -94  NaN"
      ]
     },
     "execution_count": 5,
     "metadata": {},
     "output_type": "execute_result"
    }
   ],
   "source": [
    "myspeed.tail(10)"
   ]
  },
  {
   "cell_type": "code",
   "execution_count": 6,
   "id": "be5e5d08",
   "metadata": {},
   "outputs": [
    {
     "data": {
      "text/plain": [
       "(957976, 6)"
      ]
     },
     "execution_count": 6,
     "metadata": {},
     "output_type": "execute_result"
    }
   ],
   "source": [
    "myspeed.shape"
   ]
  },
  {
   "cell_type": "code",
   "execution_count": 7,
   "id": "0cb75c10",
   "metadata": {},
   "outputs": [
    {
     "data": {
      "text/plain": [
       "Index(['operator', 'technology', 'download', 'speed', 'signal_strength',\n",
       "       'lsa'],\n",
       "      dtype='object')"
      ]
     },
     "execution_count": 7,
     "metadata": {},
     "output_type": "execute_result"
    }
   ],
   "source": [
    "myspeed.columns"
   ]
  },
  {
   "cell_type": "code",
   "execution_count": 8,
   "id": "8d36106d",
   "metadata": {},
   "outputs": [
    {
     "name": "stdout",
     "output_type": "stream",
     "text": [
      "<class 'pandas.core.frame.DataFrame'>\n",
      "RangeIndex: 957976 entries, 0 to 957975\n",
      "Data columns (total 6 columns):\n",
      " #   Column           Non-Null Count   Dtype  \n",
      "---  ------           --------------   -----  \n",
      " 0   operator         957976 non-null  object \n",
      " 1   technology       957976 non-null  object \n",
      " 2   download         957976 non-null  object \n",
      " 3   speed            957717 non-null  float64\n",
      " 4   signal_strength  957976 non-null  object \n",
      " 5   lsa              229475 non-null  object \n",
      "dtypes: float64(1), object(5)\n",
      "memory usage: 43.9+ MB\n"
     ]
    }
   ],
   "source": [
    "myspeed.info()"
   ]
  },
  {
   "cell_type": "code",
   "execution_count": 9,
   "id": "f17f3b1d",
   "metadata": {},
   "outputs": [
    {
     "data": {
      "text/plain": [
       "operator                0\n",
       "technology              0\n",
       "download                0\n",
       "speed                 259\n",
       "signal_strength         0\n",
       "lsa                728501\n",
       "dtype: int64"
      ]
     },
     "execution_count": 9,
     "metadata": {},
     "output_type": "execute_result"
    }
   ],
   "source": [
    "myspeed.isnull().sum()"
   ]
  },
  {
   "cell_type": "code",
   "execution_count": 10,
   "id": "9cfad932",
   "metadata": {},
   "outputs": [
    {
     "name": "stdout",
     "output_type": "stream",
     "text": [
      "operator\n",
      "['AIRTEL' 'Vi India' 'CELLONE' 'JIO']\n",
      ".........................\n",
      "technology\n",
      "['4G' '3G']\n",
      ".........................\n",
      "download\n",
      "['download' 'upload']\n",
      ".........................\n",
      "signal_strength\n",
      "['-94' 'na' '-86' '-95' '-87' '-90' '-98' '-92' '-96' '-89' '-84' '-85'\n",
      " '-91' '-102' '-103' '-106' '-109' '-108' '-110' '-83' '-100' '-72' '-88'\n",
      " '-76' '-111' '-74' '-77' '-71' '-81' '-66' '-69' '-73' '-75' '-70' '-67'\n",
      " '-97' '-80' '-93' '-105' '-78' '-79' '-101' '-99' '-104' '-107' '-82'\n",
      " '-112' '-68' '-62' '-55' '-51' '-59' '-61' '-57' '-53' '-65' '-63' '-52'\n",
      " '-60' '-54' '-58' '-64' '-56' '-50']\n",
      ".........................\n",
      "lsa\n",
      "[nan 'Haryana' 'Maharashtra' 'Rajasthan' 'Bihar' 'Delhi' 'Karnataka'\n",
      " 'Andhra Pradesh' 'Kolkata' 'Kerala' 'Tamil Nadu' 'UP East' 'West Bengal'\n",
      " 'UP West' 'Gujarat' 'Chennai' 'Mumbai' 'North East' 'Assam'\n",
      " 'Madhya Pradesh' 'Orissa' 'Himachal Pradesh' 'Punjab' 'Jammu & Kashmir']\n",
      ".........................\n"
     ]
    }
   ],
   "source": [
    "for i in myspeed.describe( include= object):\n",
    "    print(i)\n",
    "    print(myspeed[i].unique())\n",
    "    print('.'*25)"
   ]
  },
  {
   "cell_type": "code",
   "execution_count": 11,
   "id": "c3d4317c",
   "metadata": {},
   "outputs": [
    {
     "data": {
      "text/plain": [
       "signal_strength\n",
       "na     64360\n",
       "-90    46656\n",
       "-97    31656\n",
       "-95    29541\n",
       "-96    29093\n",
       "       ...  \n",
       "-53      276\n",
       "-56      245\n",
       "-54      207\n",
       "-52      149\n",
       "-50      140\n",
       "Name: count, Length: 64, dtype: int64"
      ]
     },
     "execution_count": 11,
     "metadata": {},
     "output_type": "execute_result"
    }
   ],
   "source": [
    "## value counts in signal strength column because of 'na' is in string type in this column\n",
    "\n",
    "myspeed['signal_strength'].value_counts()"
   ]
  },
  {
   "cell_type": "markdown",
   "id": "638132ba",
   "metadata": {},
   "source": [
    "## Data Cleaning and Modification "
   ]
  },
  {
   "cell_type": "code",
   "execution_count": 12,
   "id": "0c756a0e",
   "metadata": {},
   "outputs": [],
   "source": [
    "''' Replace NaN value of lsa by Loc_na (location not available) because there are may NaN value \n",
    "and will not be good idea to drop them all as this column not required for our analysis '''\n",
    "\n",
    "myspeed['lsa'].replace( to_replace= np.nan, value='Loc_na', inplace= True)"
   ]
  },
  {
   "cell_type": "code",
   "execution_count": 13,
   "id": "681a41f9",
   "metadata": {},
   "outputs": [],
   "source": [
    "## Replace 'na' with NaN in signal strength column \n",
    "\n",
    "myspeed['signal_strength'].replace(to_replace='na', value= np.nan, inplace=True)"
   ]
  },
  {
   "cell_type": "code",
   "execution_count": 14,
   "id": "b6569490",
   "metadata": {},
   "outputs": [
    {
     "data": {
      "text/html": [
       "<div>\n",
       "<style scoped>\n",
       "    .dataframe tbody tr th:only-of-type {\n",
       "        vertical-align: middle;\n",
       "    }\n",
       "\n",
       "    .dataframe tbody tr th {\n",
       "        vertical-align: top;\n",
       "    }\n",
       "\n",
       "    .dataframe thead th {\n",
       "        text-align: right;\n",
       "    }\n",
       "</style>\n",
       "<table border=\"1\" class=\"dataframe\">\n",
       "  <thead>\n",
       "    <tr style=\"text-align: right;\">\n",
       "      <th></th>\n",
       "      <th>operator</th>\n",
       "      <th>technology</th>\n",
       "      <th>download</th>\n",
       "      <th>speed</th>\n",
       "      <th>signal_strength</th>\n",
       "      <th>lsa</th>\n",
       "    </tr>\n",
       "  </thead>\n",
       "  <tbody>\n",
       "    <tr>\n",
       "      <th>0</th>\n",
       "      <td>AIRTEL</td>\n",
       "      <td>4G</td>\n",
       "      <td>download</td>\n",
       "      <td>33873.0</td>\n",
       "      <td>-94</td>\n",
       "      <td>Loc_na</td>\n",
       "    </tr>\n",
       "    <tr>\n",
       "      <th>1</th>\n",
       "      <td>AIRTEL</td>\n",
       "      <td>4G</td>\n",
       "      <td>upload</td>\n",
       "      <td>4545.0</td>\n",
       "      <td>NaN</td>\n",
       "      <td>Loc_na</td>\n",
       "    </tr>\n",
       "    <tr>\n",
       "      <th>2</th>\n",
       "      <td>AIRTEL</td>\n",
       "      <td>4G</td>\n",
       "      <td>upload</td>\n",
       "      <td>7053.0</td>\n",
       "      <td>-86</td>\n",
       "      <td>Haryana</td>\n",
       "    </tr>\n",
       "    <tr>\n",
       "      <th>3</th>\n",
       "      <td>AIRTEL</td>\n",
       "      <td>4G</td>\n",
       "      <td>upload</td>\n",
       "      <td>15713.0</td>\n",
       "      <td>-86</td>\n",
       "      <td>Haryana</td>\n",
       "    </tr>\n",
       "    <tr>\n",
       "      <th>4</th>\n",
       "      <td>AIRTEL</td>\n",
       "      <td>4G</td>\n",
       "      <td>upload</td>\n",
       "      <td>25746.0</td>\n",
       "      <td>-95</td>\n",
       "      <td>Loc_na</td>\n",
       "    </tr>\n",
       "    <tr>\n",
       "      <th>5</th>\n",
       "      <td>AIRTEL</td>\n",
       "      <td>4G</td>\n",
       "      <td>upload</td>\n",
       "      <td>6629.0</td>\n",
       "      <td>-87</td>\n",
       "      <td>Loc_na</td>\n",
       "    </tr>\n",
       "    <tr>\n",
       "      <th>6</th>\n",
       "      <td>AIRTEL</td>\n",
       "      <td>4G</td>\n",
       "      <td>upload</td>\n",
       "      <td>9603.0</td>\n",
       "      <td>-90</td>\n",
       "      <td>Loc_na</td>\n",
       "    </tr>\n",
       "    <tr>\n",
       "      <th>7</th>\n",
       "      <td>AIRTEL</td>\n",
       "      <td>4G</td>\n",
       "      <td>upload</td>\n",
       "      <td>97.0</td>\n",
       "      <td>-98</td>\n",
       "      <td>Loc_na</td>\n",
       "    </tr>\n",
       "    <tr>\n",
       "      <th>8</th>\n",
       "      <td>AIRTEL</td>\n",
       "      <td>4G</td>\n",
       "      <td>upload</td>\n",
       "      <td>8939.0</td>\n",
       "      <td>-92</td>\n",
       "      <td>Loc_na</td>\n",
       "    </tr>\n",
       "    <tr>\n",
       "      <th>9</th>\n",
       "      <td>AIRTEL</td>\n",
       "      <td>4G</td>\n",
       "      <td>upload</td>\n",
       "      <td>8918.0</td>\n",
       "      <td>-92</td>\n",
       "      <td>Loc_na</td>\n",
       "    </tr>\n",
       "  </tbody>\n",
       "</table>\n",
       "</div>"
      ],
      "text/plain": [
       "  operator technology  download    speed signal_strength      lsa\n",
       "0   AIRTEL         4G  download  33873.0             -94   Loc_na\n",
       "1   AIRTEL         4G    upload   4545.0             NaN   Loc_na\n",
       "2   AIRTEL         4G    upload   7053.0             -86  Haryana\n",
       "3   AIRTEL         4G    upload  15713.0             -86  Haryana\n",
       "4   AIRTEL         4G    upload  25746.0             -95   Loc_na\n",
       "5   AIRTEL         4G    upload   6629.0             -87   Loc_na\n",
       "6   AIRTEL         4G    upload   9603.0             -90   Loc_na\n",
       "7   AIRTEL         4G    upload     97.0             -98   Loc_na\n",
       "8   AIRTEL         4G    upload   8939.0             -92   Loc_na\n",
       "9   AIRTEL         4G    upload   8918.0             -92   Loc_na"
      ]
     },
     "execution_count": 14,
     "metadata": {},
     "output_type": "execute_result"
    }
   ],
   "source": [
    "myspeed.head(10)"
   ]
  },
  {
   "cell_type": "code",
   "execution_count": 15,
   "id": "8d3df8ed",
   "metadata": {},
   "outputs": [],
   "source": [
    "## Remove null values from speed column\n",
    "\n",
    "myspeed.dropna(inplace=True)"
   ]
  },
  {
   "cell_type": "code",
   "execution_count": 16,
   "id": "13472d87",
   "metadata": {},
   "outputs": [],
   "source": [
    "## Change datatype of signal strength from object to float \n",
    "\n",
    "myspeed['signal_strength']= myspeed['signal_strength'].astype('float64')"
   ]
  },
  {
   "cell_type": "code",
   "execution_count": 17,
   "id": "3bd28dea",
   "metadata": {},
   "outputs": [
    {
     "data": {
      "text/plain": [
       "operator            object\n",
       "technology          object\n",
       "download            object\n",
       "speed              float64\n",
       "signal_strength    float64\n",
       "lsa                 object\n",
       "dtype: object"
      ]
     },
     "execution_count": 17,
     "metadata": {},
     "output_type": "execute_result"
    }
   ],
   "source": [
    "myspeed.dtypes"
   ]
  },
  {
   "cell_type": "code",
   "execution_count": 18,
   "id": "f18c03b2",
   "metadata": {},
   "outputs": [
    {
     "data": {
      "text/plain": [
       "operator           0\n",
       "technology         0\n",
       "download           0\n",
       "speed              0\n",
       "signal_strength    0\n",
       "lsa                0\n",
       "dtype: int64"
      ]
     },
     "execution_count": 18,
     "metadata": {},
     "output_type": "execute_result"
    }
   ],
   "source": [
    "myspeed.isnull().sum()"
   ]
  },
  {
   "cell_type": "code",
   "execution_count": 19,
   "id": "e7653bff",
   "metadata": {},
   "outputs": [
    {
     "data": {
      "text/plain": [
       "(893390, 6)"
      ]
     },
     "execution_count": 19,
     "metadata": {},
     "output_type": "execute_result"
    }
   ],
   "source": [
    "myspeed.shape"
   ]
  },
  {
   "cell_type": "code",
   "execution_count": 20,
   "id": "a1cd7997",
   "metadata": {},
   "outputs": [
    {
     "data": {
      "text/html": [
       "<div>\n",
       "<style scoped>\n",
       "    .dataframe tbody tr th:only-of-type {\n",
       "        vertical-align: middle;\n",
       "    }\n",
       "\n",
       "    .dataframe tbody tr th {\n",
       "        vertical-align: top;\n",
       "    }\n",
       "\n",
       "    .dataframe thead th {\n",
       "        text-align: right;\n",
       "    }\n",
       "</style>\n",
       "<table border=\"1\" class=\"dataframe\">\n",
       "  <thead>\n",
       "    <tr style=\"text-align: right;\">\n",
       "      <th></th>\n",
       "      <th>operator</th>\n",
       "      <th>technology</th>\n",
       "      <th>download</th>\n",
       "      <th>speed</th>\n",
       "      <th>signal_strength</th>\n",
       "      <th>lsa</th>\n",
       "    </tr>\n",
       "  </thead>\n",
       "  <tbody>\n",
       "    <tr>\n",
       "      <th>0</th>\n",
       "      <td>AIRTEL</td>\n",
       "      <td>4G</td>\n",
       "      <td>download</td>\n",
       "      <td>33873.0</td>\n",
       "      <td>-94.0</td>\n",
       "      <td>Loc_na</td>\n",
       "    </tr>\n",
       "    <tr>\n",
       "      <th>2</th>\n",
       "      <td>AIRTEL</td>\n",
       "      <td>4G</td>\n",
       "      <td>upload</td>\n",
       "      <td>7053.0</td>\n",
       "      <td>-86.0</td>\n",
       "      <td>Haryana</td>\n",
       "    </tr>\n",
       "    <tr>\n",
       "      <th>3</th>\n",
       "      <td>AIRTEL</td>\n",
       "      <td>4G</td>\n",
       "      <td>upload</td>\n",
       "      <td>15713.0</td>\n",
       "      <td>-86.0</td>\n",
       "      <td>Haryana</td>\n",
       "    </tr>\n",
       "    <tr>\n",
       "      <th>4</th>\n",
       "      <td>AIRTEL</td>\n",
       "      <td>4G</td>\n",
       "      <td>upload</td>\n",
       "      <td>25746.0</td>\n",
       "      <td>-95.0</td>\n",
       "      <td>Loc_na</td>\n",
       "    </tr>\n",
       "    <tr>\n",
       "      <th>5</th>\n",
       "      <td>AIRTEL</td>\n",
       "      <td>4G</td>\n",
       "      <td>upload</td>\n",
       "      <td>6629.0</td>\n",
       "      <td>-87.0</td>\n",
       "      <td>Loc_na</td>\n",
       "    </tr>\n",
       "    <tr>\n",
       "      <th>6</th>\n",
       "      <td>AIRTEL</td>\n",
       "      <td>4G</td>\n",
       "      <td>upload</td>\n",
       "      <td>9603.0</td>\n",
       "      <td>-90.0</td>\n",
       "      <td>Loc_na</td>\n",
       "    </tr>\n",
       "    <tr>\n",
       "      <th>7</th>\n",
       "      <td>AIRTEL</td>\n",
       "      <td>4G</td>\n",
       "      <td>upload</td>\n",
       "      <td>97.0</td>\n",
       "      <td>-98.0</td>\n",
       "      <td>Loc_na</td>\n",
       "    </tr>\n",
       "    <tr>\n",
       "      <th>8</th>\n",
       "      <td>AIRTEL</td>\n",
       "      <td>4G</td>\n",
       "      <td>upload</td>\n",
       "      <td>8939.0</td>\n",
       "      <td>-92.0</td>\n",
       "      <td>Loc_na</td>\n",
       "    </tr>\n",
       "    <tr>\n",
       "      <th>9</th>\n",
       "      <td>AIRTEL</td>\n",
       "      <td>4G</td>\n",
       "      <td>upload</td>\n",
       "      <td>8918.0</td>\n",
       "      <td>-92.0</td>\n",
       "      <td>Loc_na</td>\n",
       "    </tr>\n",
       "    <tr>\n",
       "      <th>10</th>\n",
       "      <td>AIRTEL</td>\n",
       "      <td>4G</td>\n",
       "      <td>upload</td>\n",
       "      <td>7406.0</td>\n",
       "      <td>-96.0</td>\n",
       "      <td>Loc_na</td>\n",
       "    </tr>\n",
       "  </tbody>\n",
       "</table>\n",
       "</div>"
      ],
      "text/plain": [
       "   operator technology  download    speed  signal_strength      lsa\n",
       "0    AIRTEL         4G  download  33873.0            -94.0   Loc_na\n",
       "2    AIRTEL         4G    upload   7053.0            -86.0  Haryana\n",
       "3    AIRTEL         4G    upload  15713.0            -86.0  Haryana\n",
       "4    AIRTEL         4G    upload  25746.0            -95.0   Loc_na\n",
       "5    AIRTEL         4G    upload   6629.0            -87.0   Loc_na\n",
       "6    AIRTEL         4G    upload   9603.0            -90.0   Loc_na\n",
       "7    AIRTEL         4G    upload     97.0            -98.0   Loc_na\n",
       "8    AIRTEL         4G    upload   8939.0            -92.0   Loc_na\n",
       "9    AIRTEL         4G    upload   8918.0            -92.0   Loc_na\n",
       "10   AIRTEL         4G    upload   7406.0            -96.0   Loc_na"
      ]
     },
     "execution_count": 20,
     "metadata": {},
     "output_type": "execute_result"
    }
   ],
   "source": [
    "myspeed.head(10)"
   ]
  },
  {
   "cell_type": "markdown",
   "id": "0a5534df",
   "metadata": {},
   "source": [
    "## Check for outliers "
   ]
  },
  {
   "cell_type": "code",
   "execution_count": 21,
   "id": "833eadb4",
   "metadata": {},
   "outputs": [
    {
     "data": {
      "text/html": [
       "<div>\n",
       "<style scoped>\n",
       "    .dataframe tbody tr th:only-of-type {\n",
       "        vertical-align: middle;\n",
       "    }\n",
       "\n",
       "    .dataframe tbody tr th {\n",
       "        vertical-align: top;\n",
       "    }\n",
       "\n",
       "    .dataframe thead th {\n",
       "        text-align: right;\n",
       "    }\n",
       "</style>\n",
       "<table border=\"1\" class=\"dataframe\">\n",
       "  <thead>\n",
       "    <tr style=\"text-align: right;\">\n",
       "      <th></th>\n",
       "      <th>speed</th>\n",
       "      <th>signal_strength</th>\n",
       "    </tr>\n",
       "  </thead>\n",
       "  <tbody>\n",
       "    <tr>\n",
       "      <th>count</th>\n",
       "      <td>893390.000000</td>\n",
       "      <td>893390.000000</td>\n",
       "    </tr>\n",
       "    <tr>\n",
       "      <th>mean</th>\n",
       "      <td>11576.044900</td>\n",
       "      <td>-93.839694</td>\n",
       "    </tr>\n",
       "    <tr>\n",
       "      <th>std</th>\n",
       "      <td>14820.062552</td>\n",
       "      <td>11.311179</td>\n",
       "    </tr>\n",
       "    <tr>\n",
       "      <th>min</th>\n",
       "      <td>1.000000</td>\n",
       "      <td>-112.000000</td>\n",
       "    </tr>\n",
       "    <tr>\n",
       "      <th>25%</th>\n",
       "      <td>1779.000000</td>\n",
       "      <td>-103.000000</td>\n",
       "    </tr>\n",
       "    <tr>\n",
       "      <th>50%</th>\n",
       "      <td>6027.000000</td>\n",
       "      <td>-95.000000</td>\n",
       "    </tr>\n",
       "    <tr>\n",
       "      <th>75%</th>\n",
       "      <td>16195.000000</td>\n",
       "      <td>-87.000000</td>\n",
       "    </tr>\n",
       "    <tr>\n",
       "      <th>max</th>\n",
       "      <td>149716.000000</td>\n",
       "      <td>-50.000000</td>\n",
       "    </tr>\n",
       "  </tbody>\n",
       "</table>\n",
       "</div>"
      ],
      "text/plain": [
       "               speed  signal_strength\n",
       "count  893390.000000    893390.000000\n",
       "mean    11576.044900       -93.839694\n",
       "std     14820.062552        11.311179\n",
       "min         1.000000      -112.000000\n",
       "25%      1779.000000      -103.000000\n",
       "50%      6027.000000       -95.000000\n",
       "75%     16195.000000       -87.000000\n",
       "max    149716.000000       -50.000000"
      ]
     },
     "execution_count": 21,
     "metadata": {},
     "output_type": "execute_result"
    }
   ],
   "source": [
    "myspeed.describe()"
   ]
  },
  {
   "cell_type": "code",
   "execution_count": 22,
   "id": "ba190088",
   "metadata": {},
   "outputs": [
    {
     "data": {
      "text/plain": [
       "Text(0.5, 1.0, 'box plot of speed')"
      ]
     },
     "execution_count": 22,
     "metadata": {},
     "output_type": "execute_result"
    },
    {
     "data": {
      "image/png": "[encoded data removed]",
      "text/plain": [
       "<Figure size 600x600 with 1 Axes>"
      ]
     },
     "metadata": {},
     "output_type": "display_data"
    }
   ],
   "source": [
    "plt.figure(figsize=(6,6))\n",
    "plt.boxplot(data=myspeed, x='speed')\n",
    "plt.title('box plot of speed')"
   ]
  },
  {
   "cell_type": "code",
   "execution_count": 23,
   "id": "e48a9ea8",
   "metadata": {},
   "outputs": [
    {
     "data": {
      "text/html": [
       "<div>\n",
       "<style scoped>\n",
       "    .dataframe tbody tr th:only-of-type {\n",
       "        vertical-align: middle;\n",
       "    }\n",
       "\n",
       "    .dataframe tbody tr th {\n",
       "        vertical-align: top;\n",
       "    }\n",
       "\n",
       "    .dataframe thead th {\n",
       "        text-align: right;\n",
       "    }\n",
       "</style>\n",
       "<table border=\"1\" class=\"dataframe\">\n",
       "  <thead>\n",
       "    <tr style=\"text-align: right;\">\n",
       "      <th></th>\n",
       "      <th>operator</th>\n",
       "      <th>technology</th>\n",
       "      <th>download</th>\n",
       "      <th>speed</th>\n",
       "      <th>signal_strength</th>\n",
       "      <th>lsa</th>\n",
       "    </tr>\n",
       "  </thead>\n",
       "  <tbody>\n",
       "    <tr>\n",
       "      <th>0</th>\n",
       "      <td>AIRTEL</td>\n",
       "      <td>4G</td>\n",
       "      <td>download</td>\n",
       "      <td>33873.0</td>\n",
       "      <td>-94.0</td>\n",
       "      <td>Loc_na</td>\n",
       "    </tr>\n",
       "    <tr>\n",
       "      <th>2</th>\n",
       "      <td>AIRTEL</td>\n",
       "      <td>4G</td>\n",
       "      <td>upload</td>\n",
       "      <td>7053.0</td>\n",
       "      <td>-86.0</td>\n",
       "      <td>Haryana</td>\n",
       "    </tr>\n",
       "    <tr>\n",
       "      <th>3</th>\n",
       "      <td>AIRTEL</td>\n",
       "      <td>4G</td>\n",
       "      <td>upload</td>\n",
       "      <td>15713.0</td>\n",
       "      <td>-86.0</td>\n",
       "      <td>Haryana</td>\n",
       "    </tr>\n",
       "    <tr>\n",
       "      <th>4</th>\n",
       "      <td>AIRTEL</td>\n",
       "      <td>4G</td>\n",
       "      <td>upload</td>\n",
       "      <td>25746.0</td>\n",
       "      <td>-95.0</td>\n",
       "      <td>Loc_na</td>\n",
       "    </tr>\n",
       "    <tr>\n",
       "      <th>5</th>\n",
       "      <td>AIRTEL</td>\n",
       "      <td>4G</td>\n",
       "      <td>upload</td>\n",
       "      <td>6629.0</td>\n",
       "      <td>-87.0</td>\n",
       "      <td>Loc_na</td>\n",
       "    </tr>\n",
       "    <tr>\n",
       "      <th>...</th>\n",
       "      <td>...</td>\n",
       "      <td>...</td>\n",
       "      <td>...</td>\n",
       "      <td>...</td>\n",
       "      <td>...</td>\n",
       "      <td>...</td>\n",
       "    </tr>\n",
       "    <tr>\n",
       "      <th>957971</th>\n",
       "      <td>AIRTEL</td>\n",
       "      <td>4G</td>\n",
       "      <td>download</td>\n",
       "      <td>21126.0</td>\n",
       "      <td>-81.0</td>\n",
       "      <td>Loc_na</td>\n",
       "    </tr>\n",
       "    <tr>\n",
       "      <th>957972</th>\n",
       "      <td>AIRTEL</td>\n",
       "      <td>4G</td>\n",
       "      <td>download</td>\n",
       "      <td>22196.0</td>\n",
       "      <td>-95.0</td>\n",
       "      <td>Loc_na</td>\n",
       "    </tr>\n",
       "    <tr>\n",
       "      <th>957973</th>\n",
       "      <td>AIRTEL</td>\n",
       "      <td>4G</td>\n",
       "      <td>download</td>\n",
       "      <td>17356.0</td>\n",
       "      <td>-107.0</td>\n",
       "      <td>Loc_na</td>\n",
       "    </tr>\n",
       "    <tr>\n",
       "      <th>957974</th>\n",
       "      <td>AIRTEL</td>\n",
       "      <td>4G</td>\n",
       "      <td>download</td>\n",
       "      <td>593.0</td>\n",
       "      <td>-91.0</td>\n",
       "      <td>Loc_na</td>\n",
       "    </tr>\n",
       "    <tr>\n",
       "      <th>957975</th>\n",
       "      <td>AIRTEL</td>\n",
       "      <td>4G</td>\n",
       "      <td>download</td>\n",
       "      <td>2386.0</td>\n",
       "      <td>-94.0</td>\n",
       "      <td>Loc_na</td>\n",
       "    </tr>\n",
       "  </tbody>\n",
       "</table>\n",
       "<p>860837 rows × 6 columns</p>\n",
       "</div>"
      ],
      "text/plain": [
       "       operator technology  download    speed  signal_strength      lsa\n",
       "0        AIRTEL         4G  download  33873.0            -94.0   Loc_na\n",
       "2        AIRTEL         4G    upload   7053.0            -86.0  Haryana\n",
       "3        AIRTEL         4G    upload  15713.0            -86.0  Haryana\n",
       "4        AIRTEL         4G    upload  25746.0            -95.0   Loc_na\n",
       "5        AIRTEL         4G    upload   6629.0            -87.0   Loc_na\n",
       "...         ...        ...       ...      ...              ...      ...\n",
       "957971   AIRTEL         4G  download  21126.0            -81.0   Loc_na\n",
       "957972   AIRTEL         4G  download  22196.0            -95.0   Loc_na\n",
       "957973   AIRTEL         4G  download  17356.0           -107.0   Loc_na\n",
       "957974   AIRTEL         4G  download    593.0            -91.0   Loc_na\n",
       "957975   AIRTEL         4G  download   2386.0            -94.0   Loc_na\n",
       "\n",
       "[860837 rows x 6 columns]"
      ]
     },
     "execution_count": 23,
     "metadata": {},
     "output_type": "execute_result"
    }
   ],
   "source": [
    "## According to the Bharti Airtel expert 4G speed can go upto 100 mbps or 100000 kbps.\n",
    "## Similarly according to wikipedia lowest speed of 3G is 144 kbps.\n",
    "## So, anything outside this range will be outlier for us.\n",
    "\n",
    "myspeed= myspeed[myspeed['speed']<100000]\n",
    "myspeed= myspeed[myspeed['speed']>144]\n",
    "\n",
    "myspeed"
   ]
  },
  {
   "cell_type": "markdown",
   "id": "176d1399",
   "metadata": {},
   "source": [
    "## Data Analysis and Visulaization \n"
   ]
  },
  {
   "cell_type": "code",
   "execution_count": 24,
   "id": "cf1743bf",
   "metadata": {},
   "outputs": [
    {
     "data": {
      "text/html": [
       "<div>\n",
       "<style scoped>\n",
       "    .dataframe tbody tr th:only-of-type {\n",
       "        vertical-align: middle;\n",
       "    }\n",
       "\n",
       "    .dataframe tbody tr th {\n",
       "        vertical-align: top;\n",
       "    }\n",
       "\n",
       "    .dataframe thead th {\n",
       "        text-align: right;\n",
       "    }\n",
       "</style>\n",
       "<table border=\"1\" class=\"dataframe\">\n",
       "  <thead>\n",
       "    <tr style=\"text-align: right;\">\n",
       "      <th></th>\n",
       "      <th>speed</th>\n",
       "      <th>signal_strength</th>\n",
       "    </tr>\n",
       "  </thead>\n",
       "  <tbody>\n",
       "    <tr>\n",
       "      <th>count</th>\n",
       "      <td>860837.000000</td>\n",
       "      <td>860837.000000</td>\n",
       "    </tr>\n",
       "    <tr>\n",
       "      <th>mean</th>\n",
       "      <td>11900.888072</td>\n",
       "      <td>-93.681345</td>\n",
       "    </tr>\n",
       "    <tr>\n",
       "      <th>std</th>\n",
       "      <td>14569.755099</td>\n",
       "      <td>11.311117</td>\n",
       "    </tr>\n",
       "    <tr>\n",
       "      <th>min</th>\n",
       "      <td>145.000000</td>\n",
       "      <td>-112.000000</td>\n",
       "    </tr>\n",
       "    <tr>\n",
       "      <th>25%</th>\n",
       "      <td>2077.000000</td>\n",
       "      <td>-103.000000</td>\n",
       "    </tr>\n",
       "    <tr>\n",
       "      <th>50%</th>\n",
       "      <td>6463.000000</td>\n",
       "      <td>-95.000000</td>\n",
       "    </tr>\n",
       "    <tr>\n",
       "      <th>75%</th>\n",
       "      <td>16716.000000</td>\n",
       "      <td>-87.000000</td>\n",
       "    </tr>\n",
       "    <tr>\n",
       "      <th>max</th>\n",
       "      <td>99999.000000</td>\n",
       "      <td>-50.000000</td>\n",
       "    </tr>\n",
       "  </tbody>\n",
       "</table>\n",
       "</div>"
      ],
      "text/plain": [
       "               speed  signal_strength\n",
       "count  860837.000000    860837.000000\n",
       "mean    11900.888072       -93.681345\n",
       "std     14569.755099        11.311117\n",
       "min       145.000000      -112.000000\n",
       "25%      2077.000000      -103.000000\n",
       "50%      6463.000000       -95.000000\n",
       "75%     16716.000000       -87.000000\n",
       "max     99999.000000       -50.000000"
      ]
     },
     "execution_count": 24,
     "metadata": {},
     "output_type": "execute_result"
    }
   ],
   "source": [
    "myspeed.describe()"
   ]
  },
  {
   "cell_type": "code",
   "execution_count": 25,
   "id": "757b2cf0",
   "metadata": {},
   "outputs": [
    {
     "name": "stdout",
     "output_type": "stream",
     "text": [
      "Average speed 11900.89\n",
      "-------------------------\n"
     ]
    },
    {
     "data": {
      "text/plain": [
       "Text(0.5, 1.0, 'Operators with more than average speed of network')"
      ]
     },
     "execution_count": 25,
     "metadata": {},
     "output_type": "execute_result"
    },
    {
     "data": {
      "image/png": "[encoded data removed]",
      "text/plain": [
       "<Figure size 800x500 with 1 Axes>"
      ]
     },
     "metadata": {},
     "output_type": "display_data"
    }
   ],
   "source": [
    "## calculate average speed of network and plot a graph of operators who has network speed more than average.\n",
    "avg_speed= round(myspeed['speed'].mean(),2)\n",
    "print('Average speed', avg_speed)\n",
    "print('-'*25)\n",
    "\n",
    "plt.figure(figsize=(8,5))\n",
    "sns.countplot(data=myspeed[myspeed['speed']>avg_speed], x='operator')\n",
    "plt.title('Operators with more than average speed of network')"
   ]
  },
  {
   "cell_type": "markdown",
   "id": "bdde9c70",
   "metadata": {},
   "source": [
    "## Here JIO is clear winner in terms of network speed followed by Airtel"
   ]
  },
  {
   "cell_type": "code",
   "execution_count": 26,
   "id": "2ebda63f",
   "metadata": {
    "scrolled": true
   },
   "outputs": [
    {
     "data": {
      "text/html": [
       "<div>\n",
       "<style scoped>\n",
       "    .dataframe tbody tr th:only-of-type {\n",
       "        vertical-align: middle;\n",
       "    }\n",
       "\n",
       "    .dataframe tbody tr th {\n",
       "        vertical-align: top;\n",
       "    }\n",
       "\n",
       "    .dataframe thead th {\n",
       "        text-align: right;\n",
       "    }\n",
       "</style>\n",
       "<table border=\"1\" class=\"dataframe\">\n",
       "  <thead>\n",
       "    <tr style=\"text-align: right;\">\n",
       "      <th></th>\n",
       "      <th>signal_strength</th>\n",
       "    </tr>\n",
       "    <tr>\n",
       "      <th>operator</th>\n",
       "      <th></th>\n",
       "    </tr>\n",
       "  </thead>\n",
       "  <tbody>\n",
       "    <tr>\n",
       "      <th>AIRTEL</th>\n",
       "      <td>-94.80</td>\n",
       "    </tr>\n",
       "    <tr>\n",
       "      <th>CELLONE</th>\n",
       "      <td>-81.05</td>\n",
       "    </tr>\n",
       "    <tr>\n",
       "      <th>JIO</th>\n",
       "      <td>-92.71</td>\n",
       "    </tr>\n",
       "    <tr>\n",
       "      <th>Vi India</th>\n",
       "      <td>-96.07</td>\n",
       "    </tr>\n",
       "  </tbody>\n",
       "</table>\n",
       "</div>"
      ],
      "text/plain": [
       "          signal_strength\n",
       "operator                 \n",
       "AIRTEL             -94.80\n",
       "CELLONE            -81.05\n",
       "JIO                -92.71\n",
       "Vi India           -96.07"
      ]
     },
     "execution_count": 26,
     "metadata": {},
     "output_type": "execute_result"
    }
   ],
   "source": [
    "## Average signal strength according to operators\n",
    "mean_signal_strength= pd.DataFrame(round(myspeed.groupby(by= 'operator')[['signal_strength']].mean(), 2))\n",
    "mean_signal_strength"
   ]
  },
  {
   "cell_type": "markdown",
   "id": "90df5eff",
   "metadata": {},
   "source": [
    "## CELLONE give the best signal strength followed by JIO "
   ]
  },
  {
   "cell_type": "code",
   "execution_count": 27,
   "id": "a41da84d",
   "metadata": {},
   "outputs": [
    {
     "name": "stdout",
     "output_type": "stream",
     "text": [
      "percentage count of operator\n",
      "JIO         0.49\n",
      "AIRTEL      0.43\n",
      "Vi India    0.08\n",
      "CELLONE     0.00\n",
      "Name: proportion, dtype: float64\n",
      "-------------------------\n"
     ]
    },
    {
     "data": {
      "text/plain": [
       "Text(0.5, 1.0, 'Operator with 4G technology')"
      ]
     },
     "execution_count": 27,
     "metadata": {},
     "output_type": "execute_result"
    },
    {
     "data": {
      "image/png": "[encoded data removed]",
      "text/plain": [
       "<Figure size 800x500 with 1 Axes>"
      ]
     },
     "metadata": {},
     "output_type": "display_data"
    }
   ],
   "source": [
    "## calculate percentage, operators with 4G technology\n",
    "tech_4G = myspeed[myspeed['technology']== '4G']\n",
    "print('percentage count of',round(tech_4G['operator'].value_counts(normalize=True),2))\n",
    "print('-'*25)\n",
    "\n",
    "plt.figure(figsize=(8,5))\n",
    "sns.countplot(data=tech_4G, x='operator')\n",
    "plt.title('Operator with 4G technology')"
   ]
  },
  {
   "cell_type": "markdown",
   "id": "af86c267",
   "metadata": {},
   "source": [
    "## JIO with highest 4G technology followed by Airtel"
   ]
  },
  {
   "cell_type": "markdown",
   "id": "bd323a91",
   "metadata": {},
   "source": [
    "# According to the given parameters JIO is clean winner, hence JIO is the best network provider in Dec 2021"
   ]
  }
 ],
 "metadata": {
  "kernelspec": {
   "display_name": "Python 3 (ipykernel)",
   "language": "python",
   "name": "python3"
  },
  "language_info": {
   "codemirror_mode": {
    "name": "ipython",
    "version": 3
   },
   "file_extension": ".py",
   "mimetype": "text/x-python",
   "name": "python",
   "nbconvert_exporter": "python",
   "pygments_lexer": "ipython3",
   "version": "3.11.3"
  }
 },
 "nbformat": 4,
 "nbformat_minor": 5
}
